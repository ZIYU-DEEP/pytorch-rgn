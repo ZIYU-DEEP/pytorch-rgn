{
 "cells": [
  {
   "cell_type": "code",
   "execution_count": 210,
   "metadata": {},
   "outputs": [],
   "source": [
    "import os\n",
    "import numpy as np\n",
    "from io import BytesIO\n",
    "from tqdm import tqdm\n",
    "import bcolz"
   ]
  },
  {
   "cell_type": "code",
   "execution_count": 237,
   "metadata": {},
   "outputs": [],
   "source": [
    "pn_path = os.curdir + '/data/proteinnet/casp11/'\n",
    "data_path = os.curdir + '/data/'"
   ]
  },
  {
   "cell_type": "code",
   "execution_count": 259,
   "metadata": {},
   "outputs": [
    {
     "name": "stderr",
     "output_type": "stream",
     "text": [
      "2673it [00:11, 226.82it/s]\n"
     ]
    }
   ],
   "source": [
    "ids = []\n",
    "seqs = []\n",
    "evs = []\n",
    "coords = []\n",
    "masks = ['init', '/n']\n",
    "id_next, pri_next, ev_next, ter_next, msk_next = False, False, False, False, False\n",
    "with open(pn_path+'testing') as fp:\n",
    "    for line in tqdm(iter(fp.readline, '')):\n",
    "        if id_next: ids.append(line[:-1])\n",
    "        elif pri_next: seqs.append(line[:-1])\n",
    "        elif ev_next: evs.append(np.genfromtxt(BytesIO(line)))\n",
    "        elif ter_next: coords.append(np.genfromtxt(BytesIO(line)))\n",
    "        elif msk_next: masks.append(line[:-1])\n",
    "        \n",
    "        if np.core.defchararray.find(line, \"[ID]\", end=5) != -1:\n",
    "            id_next = True\n",
    "            masks.pop()\n",
    "            masks.pop()\n",
    "            pri_next, ev_next, ter_next, msk_next = False, False, False, False\n",
    "        elif np.core.defchararray.find(line, \"[PRIMARY]\", end=10) != -1:\n",
    "            pri_next = True\n",
    "            ids.pop()\n",
    "            id_next, ev_next, ter_next, msk_next = False, False, False, False\n",
    "        elif np.core.defchararray.find(line, \"[EVOLUTIONARY]\", end=15) != -1:\n",
    "            ev_next = True\n",
    "            seqs.pop()\n",
    "            id_next, pri_next, ter_next, msk_next = False, False, False, False\n",
    "        elif np.core.defchararray.find(line, \"[TERTIARY]\", end=11) != -1:\n",
    "            ter_next = True\n",
    "            evs.pop()\n",
    "            id_next, pri_next, ev_next, msk_next = False, False, False, False\n",
    "        elif np.core.defchararray.find(line, \"[MASK]\", end=7) != -1:\n",
    "            msk_next = True\n",
    "            coords.pop()\n",
    "            id_next, pri_next, ev_next, ter_next = False, False, False, False"
   ]
  },
  {
   "cell_type": "code",
   "execution_count": 260,
   "metadata": {},
   "outputs": [
    {
     "name": "stdout",
     "output_type": "stream",
     "text": [
      "# IDs: 81\n",
      "# Seqs: 81\n",
      "# PSSMs: 1701\n",
      "# Coords: 243\n",
      "# Masks: 81\n"
     ]
    }
   ],
   "source": [
    "print('# IDs: {}'.format(len(ids)))\n",
    "print('# Seqs: {}'.format(len(seqs)))\n",
    "print('# PSSMs: {}'.format(len(evs)))\n",
    "print('# Coords: {}'.format(len(coords)))\n",
    "print('# Masks: {}'.format(len(masks[:-1]))) #-1 because of blank line at end of file"
   ]
  },
  {
   "cell_type": "code",
   "execution_count": 261,
   "metadata": {},
   "outputs": [],
   "source": [
    "pssm = evs\n",
    "xyz = coords"
   ]
  },
  {
   "cell_type": "code",
   "execution_count": 262,
   "metadata": {},
   "outputs": [],
   "source": [
    "#loop through each evolutionary section\n",
    "for i in range(len(ids)):\n",
    "    #first store the id and sequence\n",
    "    id = ids[i]\n",
    "    seq = seqs[i]\n",
    "    \n",
    "    #next get the PSSM matrix for the sequence\n",
    "    sp = 21*i\n",
    "    ep = 21*(i+1)\n",
    "    psi = np.array(pssm[sp:ep])\n",
    "    pssmi = np.stack([p for p in psi], axis=1)\n",
    "    \n",
    "    #then get the coordinates\n",
    "    sx = 3*i\n",
    "    ex = 3*(i+1)\n",
    "    xi = np.array(xyz[sx:ex])\n",
    "    xyzi = np.stack([c for c in xi], axis=1)/100 #have to scale by 100 to match PDB\n",
    "    \n",
    "    #lastly convert the mask to indices\n",
    "    msk_idx = np.where(np.array(list(masks[i])) == '+')[0]\n",
    "    \n",
    "    #bracket id or get \"setting an array element with a sequence\"\n",
    "    zt = np.array([[id], seq, pssmi, xyzi, msk_idx])\n",
    "    \n",
    "    if i == 0:\n",
    "        bc = bcolz.carray([zt], rootdir=data_path+'testing.bc', mode='w', expectedlen=len(ids))\n",
    "        bc.flush()\n",
    "    else:\n",
    "        bc = bcolz.carray(rootdir=data_path+'testing.bc', mode='w')\n",
    "        bc.append([zt])\n",
    "        bc.flush()"
   ]
  },
  {
   "cell_type": "code",
   "execution_count": 268,
   "metadata": {},
   "outputs": [],
   "source": [
    "#bcolz.open(rootdir=data_path+'testing.bc')"
   ]
  }
 ],
 "metadata": {
  "kernelspec": {
   "display_name": "Python [conda env:anaconda2]",
   "language": "python",
   "name": "conda-env-anaconda2-py"
  },
  "language_info": {
   "codemirror_mode": {
    "name": "ipython",
    "version": 2
   },
   "file_extension": ".py",
   "mimetype": "text/x-python",
   "name": "python",
   "nbconvert_exporter": "python",
   "pygments_lexer": "ipython2",
   "version": "2.7.14"
  }
 },
 "nbformat": 4,
 "nbformat_minor": 2
}
