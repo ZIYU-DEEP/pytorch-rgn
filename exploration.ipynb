{
 "cells": [
  {
   "cell_type": "markdown",
   "metadata": {},
   "source": [
    "# Data Exploration"
   ]
  },
  {
   "cell_type": "markdown",
   "metadata": {},
   "source": [
    "I want to see what the pdb files data actually looks like and figure out how to read it effectively, my intuition is that they will be difficult to read because they contain a variety of different data"
   ]
  },
  {
   "cell_type": "code",
   "execution_count": 1,
   "metadata": {},
   "outputs": [],
   "source": [
    "%load_ext autoreload\n",
    "%autoreload 2"
   ]
  },
  {
   "cell_type": "code",
   "execution_count": 2,
   "metadata": {},
   "outputs": [
    {
     "name": "stderr",
     "output_type": "stream",
     "text": [
      "Using TensorFlow backend.\n"
     ]
    }
   ],
   "source": [
    "import numpy as np\n",
    "import pandas as pd\n",
    "import ipywidgets as ip\n",
    "from matplotlib import pyplot as plt\n",
    "import os\n",
    "import utils\n",
    "from fastai import *\n",
    "import matplotlib\n",
    "import seaborn as sns\n",
    "from tqdm import tqdm\n",
    "from collections import Counter as cs\n",
    "import nglview as nv\n",
    "import sys\n",
    "from sklearn.model_selection import train_test_split\n",
    "%matplotlib inline"
   ]
  },
  {
   "cell_type": "code",
   "execution_count": 3,
   "metadata": {},
   "outputs": [],
   "source": [
    "import Bio.PDB as bio\n",
    "import warnings\n",
    "warnings.filterwarnings(\"ignore\")"
   ]
  },
  {
   "cell_type": "code",
   "execution_count": null,
   "metadata": {},
   "outputs": [],
   "source": []
  },
  {
   "cell_type": "code",
   "execution_count": 4,
   "metadata": {},
   "outputs": [],
   "source": [
    "plt.rcParams['figure.figsize'] = [16,6]"
   ]
  },
  {
   "cell_type": "markdown",
   "metadata": {},
   "source": [
    "## Read Data"
   ]
  },
  {
   "cell_type": "code",
   "execution_count": 5,
   "metadata": {},
   "outputs": [],
   "source": [
    "data_path = os.curdir + '/data/'\n",
    "pdb_path = os.curdir + '/data/pdb/structures/pdb/'\n",
    "pdb_list = next(os.walk(pdb_path))[2]"
   ]
  },
  {
   "cell_type": "code",
   "execution_count": 6,
   "metadata": {},
   "outputs": [],
   "source": [
    "#load sequence file as a bcolz array for the sake of space and speed\n",
    "seq_file = load_array(data_path+'sequences.bc')\n",
    "#seq = np.array(open(data_path + 'pdb_seqres.txt').readlines())"
   ]
  },
  {
   "cell_type": "code",
   "execution_count": 7,
   "metadata": {},
   "outputs": [],
   "source": [
    "residue_letter_codes = {'GLY': 'G','PRO': 'P','ALA': 'A','VAL': 'V','LEU': 'L',\n",
    "                        'ILE': 'I','MET': 'M','CYS': 'C','PHE': 'F','TYR': 'Y',\n",
    "                        'TRP': 'W','HIS': 'H','LYS': 'K','ARG': 'R','GLN': 'Q',\n",
    "                        'ASN': 'N','GLU': 'E','ASP': 'D','SER': 'S','THR': 'T'}"
   ]
  },
  {
   "cell_type": "code",
   "execution_count": 8,
   "metadata": {},
   "outputs": [],
   "source": [
    "def create_targets(pdb_file_path, residue_letter_codes):\n",
    "    p = bio.PDBParser()\n",
    "    s = p.get_structure('X', pdb_file_path)\n",
    "    \n",
    "    #randomly select one model from the pdb file\n",
    "    gen = s.get_models()\n",
    "    l = list(gen)\n",
    "    mod = l[np.random.randint(0, len(l))]\n",
    "    \n",
    "    chain_coords=[]\n",
    "    seq_strs = []\n",
    "    seq_locs = []\n",
    "    \n",
    "    #for model in s:\n",
    "    for chain in mod:\n",
    "        seq_str = ''\n",
    "        seq_loc = []\n",
    "        coords = []\n",
    "        for ix,residue in enumerate(chain):\n",
    "            if residue.get_id()[0] == ' ':\n",
    "                for atom in residue:\n",
    "                    if atom.get_name() == \"N\":\n",
    "                        n = atom.get_coord()\n",
    "                    elif atom.get_name() == \"CA\":\n",
    "                        ca = atom.get_coord()\n",
    "                    elif atom.get_name() == \"C\":\n",
    "                        cp = atom.get_coord()\n",
    "                try: #in some cases N is missing on the first residue, so we append zeros instead\n",
    "                    #print(np.stack([n,ca,cp]))\n",
    "                    coords.append(np.stack([n,ca,cp], axis=0))\n",
    "                    letter_code = residue_letter_codes[residue.get_resname()]\n",
    "                    #del n, ca, cp\n",
    "                except:\n",
    "                    #first[-1] += 1 move past the first residue and ignore it\n",
    "                    pass\n",
    "                else:\n",
    "                    seq_str += letter_code\n",
    "                    seq_loc.append(atom.get_full_id()[3][1])\n",
    "\n",
    "        chain_coords.append(coords)\n",
    "        seq_strs.append(seq_str)\n",
    "        seq_locs.append(np.unique(seq_loc))\n",
    "        \n",
    "    return chain_coords, seq_strs, seq_locs"
   ]
  },
  {
   "cell_type": "code",
   "execution_count": 9,
   "metadata": {},
   "outputs": [],
   "source": [
    "def parse_pdb(pdb_file, residue_letter_codes):\n",
    "    #pdb_file = 'pdb5l6t.ent' #np.random.choice(pdb_list)\n",
    "    p = bio.PDBParser()\n",
    "    s = p.get_structure('X', pdb_path+pdb_file)\n",
    "    \n",
    "    gen = s.get_models()\n",
    "    l = list(gen)\n",
    "    mod = l[np.random.randint(0, len(l))] #choose random model when more than 1 exists\n",
    "    \n",
    "    seq_strs = []\n",
    "    seq_locs = []\n",
    "    for chain in mod:\n",
    "        seq_str = ''\n",
    "        seq_loc = []\n",
    "        for residue in chain:\n",
    "            if residue.get_id()[0] == ' ':\n",
    "                letter_code = residue_letter_codes[residue.get_resname()]\n",
    "                seq_str += letter_code\n",
    "                for atom in residue:\n",
    "                    seq_loc.append(atom.get_full_id()[3][1])\n",
    "        seq_strs.append(seq_str)\n",
    "        seq_locs.append(np.unique(seq_loc))\n",
    "        \n",
    "    return seq_strs, seq_locs"
   ]
  },
  {
   "cell_type": "code",
   "execution_count": 10,
   "metadata": {},
   "outputs": [],
   "source": [
    "def align_indices(seq_strs, seq_locs, gt_seq, start_match_length=5):\n",
    "    fill_indices = []\n",
    "    for ix, pdb_seq in enumerate(seq_strs):\n",
    "        search_seq = gt_seq[ix]\n",
    "        pos = np.core.defchararray.find(search_seq, pdb_seq[:start_match_length])\n",
    "        if pos < 0:\n",
    "            raise ValueError('First 5 residues in pdb file have no match!')\n",
    "        locs = seq_locs[ix] + (pos - seq_locs[ix][0])\n",
    "        fill_indices.append(np.intersect1d(range(len(search_seq)), locs))\n",
    "    \n",
    "    return fill_indices"
   ]
  },
  {
   "cell_type": "code",
   "execution_count": 147,
   "metadata": {},
   "outputs": [],
   "source": [
    "chain_coords, seq_strs, seq_locs = \\\n",
    "    create_targets(pdb_path+'pdb3oaz.ent', residue_letter_codes)\n",
    "gt_seq = utils.gather_sequence('3oaz', seq_file)"
   ]
  },
  {
   "cell_type": "code",
   "execution_count": 154,
   "metadata": {
    "collapsed": true
   },
   "outputs": [
    {
     "name": "stdout",
     "output_type": "stream",
     "text": [
      "0\n",
      "[  0   1   2   3   4   5   6   7   8   9  10  11  12  13  14  15  16  17\n",
      "  18  19  20  21  22  23  24  25  26  27  28  29  30  31  32  33  34  35\n",
      "  36  37  38  39  40  41  42  43  44  45  46  47  48  49  50  51  52  53\n",
      "  54  55  56  57  58  59  60  61  62  63  64  65  66  67  68  69  70  71\n",
      "  72  73  74  75  76  77  78  79  80  81  82  83  84  85  86  87  88  89\n",
      "  90  91  92  93  94  95  96  97  98  99 100 101 102 103 104 105 106 107\n",
      " 108 109 110 111 112 113 114 115 116 117 118 119 120 121 122 123 124 125\n",
      " 126 127 128 129 132 133 134 135 136 137 138 139 140 141 142 143 144 145\n",
      " 146 147 148 149 150 151 152 153 155 156 161 162 163 164 165 166 167 168\n",
      " 170 171 172 173 174 175 176 177 178 179 181 182 183 184 185 186 187 188\n",
      " 189 190 191 192 193 194 195 196 197 198 199 202 204 205 206 207 208 209\n",
      " 210 211 212 213 214 215 216 217 218 219 220 221 224 225 226]\n",
      "-1\n"
     ]
    },
    {
     "ename": "ValueError",
     "evalue": "First 5 residues in pdb file have no match!",
     "output_type": "error",
     "traceback": [
      "\u001b[0;31m---------------------------------------------------------------------------\u001b[0m",
      "\u001b[0;31mValueError\u001b[0m                                Traceback (most recent call last)",
      "\u001b[0;32m<ipython-input-154-e4a5d8013243>\u001b[0m in \u001b[0;36m<module>\u001b[0;34m()\u001b[0m\n\u001b[0;32m----> 1\u001b[0;31m \u001b[0malign_indices\u001b[0m\u001b[0;34m(\u001b[0m\u001b[0mseq_strs\u001b[0m\u001b[0;34m,\u001b[0m \u001b[0mseq_locs\u001b[0m\u001b[0;34m,\u001b[0m \u001b[0mgt_seq\u001b[0m\u001b[0;34m)\u001b[0m\u001b[0;34m\u001b[0m\u001b[0m\n\u001b[0m",
      "\u001b[0;32m<ipython-input-153-6318c38b745d>\u001b[0m in \u001b[0;36malign_indices\u001b[0;34m(seq_strs, seq_locs, gt_seq, start_match_length)\u001b[0m\n\u001b[1;32m      6\u001b[0m         \u001b[0;32mprint\u001b[0m\u001b[0;34m(\u001b[0m\u001b[0mpos\u001b[0m\u001b[0;34m)\u001b[0m\u001b[0;34m\u001b[0m\u001b[0m\n\u001b[1;32m      7\u001b[0m         \u001b[0;32mif\u001b[0m \u001b[0mpos\u001b[0m \u001b[0;34m<\u001b[0m \u001b[0;36m0\u001b[0m\u001b[0;34m:\u001b[0m\u001b[0;34m\u001b[0m\u001b[0m\n\u001b[0;32m----> 8\u001b[0;31m             \u001b[0;32mraise\u001b[0m \u001b[0mValueError\u001b[0m\u001b[0;34m(\u001b[0m\u001b[0;34m'First 5 residues in pdb file have no match!'\u001b[0m\u001b[0;34m)\u001b[0m\u001b[0;34m\u001b[0m\u001b[0m\n\u001b[0m\u001b[1;32m      9\u001b[0m         \u001b[0mlocs\u001b[0m \u001b[0;34m=\u001b[0m \u001b[0mseq_locs\u001b[0m\u001b[0;34m[\u001b[0m\u001b[0mix\u001b[0m\u001b[0;34m]\u001b[0m \u001b[0;34m+\u001b[0m \u001b[0;34m(\u001b[0m\u001b[0mpos\u001b[0m \u001b[0;34m-\u001b[0m \u001b[0mseq_locs\u001b[0m\u001b[0;34m[\u001b[0m\u001b[0mix\u001b[0m\u001b[0;34m]\u001b[0m\u001b[0;34m[\u001b[0m\u001b[0;36m0\u001b[0m\u001b[0;34m]\u001b[0m\u001b[0;34m)\u001b[0m\u001b[0;34m\u001b[0m\u001b[0m\n\u001b[1;32m     10\u001b[0m         \u001b[0;32mprint\u001b[0m\u001b[0;34m(\u001b[0m\u001b[0mlocs\u001b[0m\u001b[0;34m)\u001b[0m\u001b[0;34m\u001b[0m\u001b[0m\n",
      "\u001b[0;31mValueError\u001b[0m: First 5 residues in pdb file have no match!"
     ]
    }
   ],
   "source": [
    "align_indices(seq_strs, seq_locs, gt_seq)"
   ]
  },
  {
   "cell_type": "code",
   "execution_count": 10,
   "metadata": {},
   "outputs": [],
   "source": [
    "#fill_indices = []\n",
    "#for ix, pdb_seq in enumerate(seq_strs):\n",
    "#    search_seq = gt_seq[ix]\n",
    "#    pos = np.core.defchararray.find(search_seq, pdb_seq[:5])\n",
    "#    locs = seq_locs[ix] + (pos - seq_locs[ix][0])\n",
    "#    fill_indices.append(np.setdiff1d(range(len(search_seq)), locs))"
   ]
  },
  {
   "cell_type": "code",
   "execution_count": 11,
   "metadata": {},
   "outputs": [],
   "source": [
    "#test_file = np.random.choice(pdb_list)\n",
    "#print(test_file)\n",
    "#main error I run into is unusual residues (or UNK) as in pdb3v6t.ent\n",
    "#not in this step, but later, also many have no N, C or CA atoms in residue\n",
    "#errors=0\n",
    "#for f in tqdm(pdb_list[:500]):\n",
    "#    test_file = f\n",
    "#    try:\n",
    "#        seq_strs, seq_locs = parse_pdb(test_file, residue_letter_codes)\n",
    "#        gt_seq = utils.gather_sequence(test_file[3:7], seq_file)\n",
    "#        fill_indices = align_indices(seq_strs, seq_locs, gt_seq)\n",
    "#    except:\n",
    "#        errors += 1\n",
    "#        pass\n",
    "#in first 500 samples, there are only 36 errors"
   ]
  },
  {
   "cell_type": "markdown",
   "metadata": {},
   "source": [
    "Below accomplishes the goal of finding the correct starting point and comparing the position of each residue in the PDB sequence to the ground truth FASTA sequence. Using an array of those positions and determining the set difference with an unbroken sequence, we can find gaps in the pdb sequence. Currently, there are two more things left to do:\n",
    "<ul>\n",
    "    <li>Repeated residues in the gt sequence could throw of the index by a couple of residues, after every break, I need to again align a sequence of 5 or so residues to almost guarentee that I have the correct gap indices.</li>\n",
    "    <li>Fill gaps with 'x' and totally eliminate pdb files with weird modified residues like CSX or selenomethionine, etc.</li>\n",
    "</ul>"
   ]
  },
  {
   "cell_type": "code",
   "execution_count": 154,
   "metadata": {},
   "outputs": [],
   "source": [
    "#search_seq = gt_seq[1]\n",
    "#pdb_seq = seq_strs[1]\n",
    "#set_idx=[]\n",
    "#pos = np.core.defchararray.find(search_seq, pdb_seq[:5])\n",
    "#set_idx.append(pos)\n",
    "#x_seq = 'x'*set_idx[-1].tolist() + pdb_seq[0] #pad start with x\n",
    "\n",
    "#for ix, res in enumerate(pdb_seq[1:]):\n",
    "#    pos = np.core.defchararray.find(search_seq, res, start=pos+1)\n",
    "#    if pos == set_idx[-1]+1:\n",
    "#        x_seq += res\n",
    "#    else:\n",
    "#        x_seq += ('x'*(pos.tolist()-set_idx[-1].tolist()-1) + res)   \n",
    "#    set_idx.append(pos)\n",
    "#missing_res = np.setdiff1d(range(len(search_seq)), set_idx)"
   ]
  },
  {
   "cell_type": "code",
   "execution_count": 155,
   "metadata": {},
   "outputs": [],
   "source": [
    "#ids=[]\n",
    "#for line in seq[::2]:\n",
    "#    ids.append(line[1:5])\n",
    "#pdb_ids=[]\n",
    "#for f in pdb_list:\n",
    "#    pdb_ids.append(f[3:7])\n",
    "#msk = np.in1d(ids, pdb_ids)\n",
    "#s = seq[np.repeat(msk,2)]\n",
    "#save_array(data_path+'sequences.bc', s)"
   ]
  },
  {
   "cell_type": "code",
   "execution_count": 156,
   "metadata": {},
   "outputs": [],
   "source": [
    "#for ix, pdb_file in tqdm(enumerate(pdb_list[4300:5000])):\n",
    "#    pdb_id = pdb_file[3:7]\n",
    "    #sequence = utils.gather_sequence(pdb_id, seq_file)\n",
    "#    coords, chains, first, last = utils.create_targets(pdb_path+pdb_file)\n",
    "#    out = np.array([np.reshape(c, (-1,3)) for c in coords])\n",
    "\n",
    "#    if out.shape[0] == 0:\n",
    "        #print(ix, pdb_file)\n",
    "#        break"
   ]
  },
  {
   "cell_type": "code",
   "execution_count": 157,
   "metadata": {},
   "outputs": [],
   "source": [
    "#out = np.array([np.reshape(c, (-1,3)) for c in coords])\n",
    "#zt = np.array([sequence, first, last, out.squeeze()])"
   ]
  },
  {
   "cell_type": "code",
   "execution_count": 95,
   "metadata": {},
   "outputs": [
    {
     "data": {
      "text/plain": [
       "array([[[  0.        ,   0.        ,   0.        ],\n",
       "        [  0.        ,   0.        ,   0.        ],\n",
       "        [  0.        ,   0.        ,   0.        ],\n",
       "        ..., \n",
       "        [ 38.31000137,   4.08400011,  10.6420002 ],\n",
       "        [ 38.29299927,   4.65999985,   9.25500011],\n",
       "        [ 37.47200012,   5.95699978,   9.1079998 ]],\n",
       "\n",
       "       [[  0.        ,   0.        ,   0.        ],\n",
       "        [  0.        ,   0.        ,   0.        ],\n",
       "        [  0.        ,   0.        ,   0.        ],\n",
       "        ..., \n",
       "        [  0.        ,   0.        ,   0.        ],\n",
       "        [  0.        ,   0.        ,   0.        ],\n",
       "        [  0.        ,   0.        ,   0.        ]]])"
      ]
     },
     "execution_count": 95,
     "metadata": {},
     "output_type": "execute_result"
    }
   ],
   "source": [
    "pdb_file = 'pdb5l6t.ent'\n",
    "pdb_id = pdb_file[3:7]\n",
    "\n",
    "gt_seq = utils.gather_sequence(pdb_id, seq_file)\n",
    "chain_coords, seq_strs, seq_locs = create_targets(pdb_path+pdb_file, residue_letter_codes)\n",
    "fill_indices = align_indices(seq_strs, seq_locs, gt_seq, 5)\n",
    "\n",
    "#TODO: maybe add option for other fill values?\n",
    "empty = [np.zeros((len(seq), 3, 3)) for seq in gt_seq]\n",
    "\n",
    "for chain_ix, chain in enumerate(fill_indices):\n",
    "    for pos, index in enumerate(chain):\n",
    "        empty[chain_ix][index] = chain_coords[chain_ix][pos]\n",
    "\n",
    "out = np.array([np.reshape(c, (-1,3)) for c in empty])\n",
    "out"
   ]
  },
  {
   "cell_type": "code",
   "execution_count": 18,
   "metadata": {},
   "outputs": [],
   "source": [
    "def make_carrays(pdb_path, pdb_list, seq_file, \n",
    "                 residue_letter_codes, max_chains=8, save=False, \n",
    "                 save_path=None):\n",
    "    \n",
    "    out_lengths=[]\n",
    "    errors = 0\n",
    "    saved = 0\n",
    "    for pdb_file in tqdm(pdb_list):\n",
    "        pdb_id = pdb_file[3:7]\n",
    "        \n",
    "        gt_seq = utils.gather_sequence(pdb_id, seq_file)\n",
    "        chain_coords, seq_strs, seq_locs = create_targets(pdb_path+pdb_file, residue_letter_codes)\n",
    "        try:\n",
    "            fill_indices = align_indices(seq_strs, seq_locs, gt_seq, 5)\n",
    "        except:\n",
    "            errors += 1\n",
    "            continue\n",
    "        \n",
    "        #TODO: maybe add option for other fill values?\n",
    "        empty = [np.zeros((len(seq), 3, 3)) for seq in gt_seq]\n",
    "        \n",
    "        for chain_ix, chain in enumerate(fill_indices):\n",
    "            for pos, index in enumerate(chain):\n",
    "                empty[chain_ix][index] = chain_coords[chain_ix][pos]\n",
    "        \n",
    "        out = np.array([np.reshape(c, (-1,3)) for c in empty])\n",
    "\n",
    "        if len(out) <= max_chains: #exclude proteins with too many chains\n",
    "            if len(out) == 1:\n",
    "                zt = np.array([[pdb_id], gt_seq, out.squeeze()])\n",
    "            elif len(out.shape) > 1:\n",
    "                #causes errors because of abitrary shapes\n",
    "                zt = np.array([[pdb_id], gt_seq, [out]])\n",
    "            else:\n",
    "                zt = np.array([[pdb_id], gt_seq, out])\n",
    "\n",
    "            #if len(zt) < 3:\n",
    "            #    print(pdb_id)\n",
    "            #    break\n",
    "            \n",
    "            if save:\n",
    "                saved += 1\n",
    "                if len(out) in out_lengths:\n",
    "                    bc = bcolz.carray(\n",
    "                        rootdir=save_path+'proteins_{}.bc'.format(len(out)), mode='w'\n",
    "                    )\n",
    "                    bc.append([zt])\n",
    "                    bc.flush()\n",
    "                else:\n",
    "                    bc = bcolz.carray(\n",
    "                        [zt], rootdir=save_path+'proteins_{}.bc'.format(len(out)), mode='w'\n",
    "                    )\n",
    "                    bc.flush()\n",
    "                    out_lengths.append(len(out))\n",
    "                    \n",
    "        if saved == 5000:\n",
    "            break\n",
    "            \n",
    "    return 'Errors: {}, Total saved: {}'.format(errors, saved)"
   ]
  },
  {
   "cell_type": "code",
   "execution_count": 19,
   "metadata": {
    "scrolled": true
   },
   "outputs": [
    {
     "name": "stderr",
     "output_type": "stream",
     "text": [
      " 18%|█▊        | 5954/33654 [3:17:04<15:16:52,  1.99s/it]"
     ]
    },
    {
     "data": {
      "text/plain": [
       "'Errors: 867, Total saved: 5000'"
      ]
     },
     "execution_count": 19,
     "metadata": {},
     "output_type": "execute_result"
    }
   ],
   "source": [
    "make_carrays(pdb_path, pdb_list, seq_file, residue_letter_codes, \n",
    "            max_chains=8, save=True, save_path=data_path)"
   ]
  },
  {
   "cell_type": "code",
   "execution_count": 36,
   "metadata": {},
   "outputs": [
    {
     "data": {
      "text/plain": [
       "78"
      ]
     },
     "execution_count": 36,
     "metadata": {},
     "output_type": "execute_result"
    }
   ],
   "source": [
    "chain_1 = load_array(data_path+'proteins_8.bc')"
   ]
  },
  {
   "cell_type": "code",
   "execution_count": 29,
   "metadata": {},
   "outputs": [
    {
     "data": {
      "text/plain": [
       "['ETDEEPEEPGRRGSFVEMVDNLRGKSGQGYYVEMTVGSPPQTLNILVDTGSSNFAVGAAPHPFLHRYYQRQLSSTYRDLRKGVYVPYTQGKWEGELGTDLVSIPHGPNVTVRANIAAITESDKFFINGSNWEGILGLAYAEIARPDDSLEPFFDSLVKQTHVPNLFSLQLCGAGFPLNQSEVLASVGGSMIIGGIDHSLYTGSLWYTPIRREWYYEVIIVRVEINGQDLKMDCKEYNYDKSIVDSGTTNLRLPKKVFEAAVKSIKAASSTEKFPDGFWLGEQLVCWQAGTTPWNIFPVISLYLMGEVTNQSFRITILPQQYLRPVEDVATSQDDCYKFAISQSSTGTVMGAVIMEGFYVVFDRARKRIGFAVSACHVHDEFRTAAVEGPFVTLDMEDCGYNIPQTDESTHHHHHH']"
      ]
     },
     "execution_count": 29,
     "metadata": {},
     "output_type": "execute_result"
    }
   ],
   "source": [
    "utils.gather_sequence('5t1u', seq_file)"
   ]
  },
  {
   "cell_type": "code",
   "execution_count": 31,
   "metadata": {},
   "outputs": [
    {
     "name": "stderr",
     "output_type": "stream",
     "text": [
      "5000it [2:40:54,  1.93s/it]\n"
     ]
    }
   ],
   "source": [
    "out_lengths=[]\n",
    "\n",
    "for ix, pdb_file in tqdm(enumerate(pdb_list[:5000])):\n",
    "    \n",
    "    pdb_id = pdb_file[3:7]\n",
    "    \n",
    "    sequence = utils.gather_sequence(pdb_id, seq_file)\n",
    "    coords, chains, first, last = utils.create_targets(pdb_path+pdb_file)\n",
    "    \n",
    "    out = np.array([np.reshape(c, (-1,3)) for c in coords])\n",
    "    \n",
    "    if len(out) < 9: #exclude proteins with too many chains\n",
    "        if len(out) == 1:\n",
    "            zt = np.array([[pdb_id], sequence, first, last, out.squeeze()])\n",
    "        elif len(out.shape) > 1:\n",
    "            #causes errors because of abitrary shapes\n",
    "            zt = np.array([[pdb_id], sequence, first, last, [out]])\n",
    "        else:\n",
    "            zt = np.array([[pdb_id], sequence, first, last, out])\n",
    "        \n",
    "        if len(zt) < 4:\n",
    "            break\n",
    "        \n",
    "        #if len(out) in out_lengths:\n",
    "        #    bc = bcolz.carray(rootdir=data_path+'proteins_{}.bc'.format(len(out)), mode='w')\n",
    "        #    bc.append([zt])\n",
    "        #    bc.flush()\n",
    "        #else:\n",
    "        #    bc = bcolz.carray([zt], rootdir=data_path+'proteins_{}.bc'.format(len(out)), mode='w')\n",
    "        #    bc.flush()\n",
    "        #    out_lengths.append(len(out))"
   ]
  },
  {
   "cell_type": "code",
   "execution_count": 32,
   "metadata": {},
   "outputs": [],
   "source": [
    "test1 = load_array(data_path+'proteins_1.bc')"
   ]
  },
  {
   "cell_type": "markdown",
   "metadata": {},
   "source": [
    "I really don't care about the names of molecules, the only things that should matter are sequence, bonding site type, measurement technique, and atom coordinates."
   ]
  },
  {
   "cell_type": "markdown",
   "metadata": {
    "heading_collapsed": true
   },
   "source": [
    "## Sequence Statistics"
   ]
  },
  {
   "cell_type": "markdown",
   "metadata": {
    "hidden": true
   },
   "source": [
    "The seq_res file is ordered with one line that gives the protein name and length and then the next line gives the sequence. I don't know exactly what the CASP data will look like so it might be useful to look at the protein description as well to make predictions."
   ]
  },
  {
   "cell_type": "code",
   "execution_count": 9,
   "metadata": {
    "hidden": true
   },
   "outputs": [],
   "source": [
    "#get the lengths from each line\n",
    "lengths=[]\n",
    "#get every other line, i.e. just the descriptions\n",
    "for line in seq_file[::2]:\n",
    "    loc = np.core.defchararray.find(line,'protein length:') + \\\n",
    "          len('protein length:')\n",
    "    tail = np.core.defchararray.find(line, ' ', start=loc)\n",
    "    try:\n",
    "        length = np.uint16(line[loc:tail])\n",
    "        lengths.append(length)\n",
    "    except:\n",
    "        #just skip annoying errors, corpus so large it shouldn't matter\n",
    "        pass\n",
    "l = np.array(lengths)\n",
    "del lengths"
   ]
  },
  {
   "cell_type": "markdown",
   "metadata": {
    "hidden": true
   },
   "source": [
    "Let's check out the distribution of lengths (there are 400,000!)"
   ]
  },
  {
   "cell_type": "code",
   "execution_count": 10,
   "metadata": {
    "hidden": true
   },
   "outputs": [
    {
     "data": {
      "text/plain": [
       "<matplotlib.axes._subplots.AxesSubplot at 0x7fc3a5b6df90>"
      ]
     },
     "execution_count": 10,
     "metadata": {},
     "output_type": "execute_result"
    },
    {
     "data": {
      "image/png": "[encoded data removed]",
      "text/plain": [
       "<matplotlib.figure.Figure at 0x7fc3f44f0690>"
      ]
     },
     "metadata": {},
     "output_type": "display_data"
    }
   ],
   "source": [
    "sns.distplot(l)"
   ]
  },
  {
   "cell_type": "code",
   "execution_count": 11,
   "metadata": {
    "hidden": true
   },
   "outputs": [
    {
     "data": {
      "text/plain": [
       "DescribeResult(nobs=415153, minmax=(2, 5037), mean=254.33927973542285, variance=44912.030895747645, skewness=5.4375074287301475, kurtosis=80.90629011753249)"
      ]
     },
     "execution_count": 11,
     "metadata": {},
     "output_type": "execute_result"
    }
   ],
   "source": [
    "#basic descriptive stats\n",
    "scipy.stats.describe(l)"
   ]
  },
  {
   "cell_type": "code",
   "execution_count": 12,
   "metadata": {
    "hidden": true
   },
   "outputs": [],
   "source": [
    "#maybe get counts by type (i.e. MYOGLOBIN, superoxide dismutase)"
   ]
  },
  {
   "cell_type": "markdown",
   "metadata": {
    "hidden": true
   },
   "source": [
    "<strong>Notes:</strong>\n",
    "\n",
    "Proteins with the same names but different sequences are probably from different animals as PDB does not just store human protein data.\n",
    "\n",
    "What kinds of proteins are in the pdb sequence file? Are there 3D structures for all of them? How reliable are they? Cursory glance at some lines showed that the many share the same prefixes, how different are the sequences?\n",
    "\n",
    "Check how length of sequences affects protein folding, what kind of long range interactions exist? How effective are current technqiues for handling different sequence lengths."
   ]
  },
  {
   "cell_type": "code",
   "execution_count": 13,
   "metadata": {
    "hidden": true
   },
   "outputs": [],
   "source": [
    "res_freq = cs()\n",
    "for line in seq_file[1::2]: #just the odd line numbers\n",
    "    res_freq += cs(line)"
   ]
  },
  {
   "cell_type": "markdown",
   "metadata": {
    "hidden": true
   },
   "source": [
    "<strong>Amino acid conversion</strong>\n",
    "\n",
    "alanine - ala - A\n",
    "arginine - arg - R\n",
    "asparagine - asn - N\n",
    "aspartic acid - asp - D\n",
    "cysteine - cys - C\n",
    "glutamine - gln - Q\n",
    "glutamic acid - glu - E\n",
    "glycine - gly - G\n",
    "histidine - his - H\n",
    "isoleucine - ile - I\n",
    "leucine - leu - L\n",
    "lysine - lys - K\n",
    "methionine - met - M\n",
    "phenylalanine - phe - F\n",
    "proline - pro - P\n",
    "serine - ser - S\n",
    "threonine - thr - T\n",
    "tryptophan - trp - W\n",
    "tyrosine - tyr - Y\n",
    "valine - val - V\n",
    "\n",
    "Sometimes it is not possible two differentiate two closely related amino acids:\n",
    "asparagine/aspartic acid - asx - B\n",
    "glutamine/glutamic acid - glx - Z\n",
    "\n",
    "    O is a rare exception found in some bacteria and archea"
   ]
  },
  {
   "cell_type": "code",
   "execution_count": 14,
   "metadata": {
    "hidden": true
   },
   "outputs": [],
   "source": [
    "aa = []\n",
    "ct = []\n",
    "for a,b in res_freq.iteritems():\n",
    "    if a != '/n':\n",
    "        aa.append(a)\n",
    "        ct.append(b)"
   ]
  },
  {
   "cell_type": "code",
   "execution_count": 15,
   "metadata": {
    "hidden": true
   },
   "outputs": [
    {
     "name": "stderr",
     "output_type": "stream",
     "text": [
      "/home/ubuntu/anaconda2/lib/python2.7/site-packages/seaborn/categorical.py:1460: FutureWarning: remove_na is deprecated and is a private function. Do not use.\n",
      "  stat_data = remove_na(group_data)\n"
     ]
    },
    {
     "data": {
      "text/plain": [
       "<matplotlib.axes._subplots.AxesSubplot at 0x7fc3a31c3fd0>"
      ]
     },
     "execution_count": 15,
     "metadata": {},
     "output_type": "execute_result"
    },
    {
     "data": {
      "image/png": "[encoded data removed]",
      "text/plain": [
       "<matplotlib.figure.Figure at 0x7fc3ce4bbc10>"
      ]
     },
     "metadata": {},
     "output_type": "display_data"
    }
   ],
   "source": [
    "sns.barplot(aa, ct)"
   ]
  },
  {
   "cell_type": "markdown",
   "metadata": {
    "hidden": true
   },
   "source": [
    "Alanine, glycine, and leucine (A, G, L) are considerably more frequent than other residues. Need to research if that distributions is skewed at all by species or kingdom. For humans, Alanine is apparently only slightly less frequent than leucine, so it probably does matter somewhat. Only about 7 residues occur less than a million times. They might be difficult to train embeddings for because of their rarity. Otherwise the distribution of residues seems well-balanced."
   ]
  },
  {
   "cell_type": "markdown",
   "metadata": {},
   "source": [
    "## PDB"
   ]
  },
  {
   "cell_type": "code",
   "execution_count": 150,
   "metadata": {},
   "outputs": [],
   "source": [
    "pdb_id = '117e'\n",
    "pdb_file = pdb_path + 'pdb'+pdb_id+'.ent'"
   ]
  },
  {
   "cell_type": "code",
   "execution_count": 161,
   "metadata": {},
   "outputs": [],
   "source": [
    "view = nv.show_file(pdb_file)\n",
    "#view = nv.show_pdbid(\"5yh0\")\n",
    "#view.clear_representations()\n",
    "#view.add_representation(repr_type='cartoon')\n",
    "view.background='black'\n",
    "#view"
   ]
  },
  {
   "cell_type": "code",
   "execution_count": 62,
   "metadata": {},
   "outputs": [],
   "source": [
    "#more than one view per cell\n",
    "#view1 = nv.show_file(pdb_file)\n",
    "#view1.clear_representations()\n",
    "#view1.add_representation(repr_type='cartoon')\n",
    "#view2 = nv.show_file(pdb_file)\n",
    "#view2.clear_representations()\n",
    "#view2. add_representation(repr_type='ball+stick')\n",
    "#vbox = ip.VBox([view1, view2])"
   ]
  },
  {
   "cell_type": "code",
   "execution_count": 152,
   "metadata": {},
   "outputs": [],
   "source": [
    "#get sequences and corresponding chain ids\n",
    "def gather_sequence(pdb_id, seq_file):\n",
    "    seqs=[]\n",
    "    chains=[]\n",
    "    #get line numbers of pdb_id\n",
    "    for ix, line in enumerate(seq_file):\n",
    "        pos = np.core.defchararray.find(line, pdb_id)\n",
    "        if pos > 0:\n",
    "            seqs.append(seq_file[ix+1][:-1]) #cut off newline character\n",
    "            chains.append(line[pos+5]) #gives the chain letter from the line        \n",
    "        \n",
    "    return zip(chains,seqs)"
   ]
  },
  {
   "cell_type": "code",
   "execution_count": 153,
   "metadata": {},
   "outputs": [],
   "source": [
    "x = gather_sequence(pdb_id, seq_file)"
   ]
  },
  {
   "cell_type": "markdown",
   "metadata": {},
   "source": [
    "I was able to keep over 33,000 protein structure files, which is roughly a quarter of the entire pdb. For prototyping, I want to pick a random subset of those structures and create a new sequence file. Let's start with roughly 2,000 structures for sample train set, 500 for sample validation set, and 500 for sample test set."
   ]
  },
  {
   "cell_type": "code",
   "execution_count": 182,
   "metadata": {},
   "outputs": [],
   "source": [
    "c = np.random.choice(pdb_list, 3000)\n",
    "u = np.unique(c)\n",
    "\n",
    "msk = np.random.random(len(u)) < 0.66\n",
    "trn_samp = u[msk]\n",
    "t_samp = u[~msk]\n",
    "\n",
    "psk = np.random.random(len(t_samp)) > 0.5\n",
    "val_samp = t_samp[psk]\n",
    "tst_samp = t_samp[~psk]"
   ]
  },
  {
   "cell_type": "code",
   "execution_count": 190,
   "metadata": {},
   "outputs": [],
   "source": [
    "save_array(data_path+'train_samples.dat', trn_samp)\n",
    "save_array(data_path+'validation_samples.dat', val_samp)\n",
    "save_array(data_path+'test_samples.dat', tst_samp)"
   ]
  },
  {
   "cell_type": "code",
   "execution_count": 191,
   "metadata": {},
   "outputs": [],
   "source": [
    "trn_samp = load_array(data_path+'train_samples.dat')\n",
    "val_samp = load_array(data_path+'validation_samples.dat')\n",
    "tst_samp = load_array(data_path+'test_samples.dat')"
   ]
  }
 ],
 "metadata": {
  "kernelspec": {
   "display_name": "Python [conda env:anaconda2]",
   "language": "python",
   "name": "conda-env-anaconda2-py"
  },
  "language_info": {
   "codemirror_mode": {
    "name": "ipython",
    "version": 2
   },
   "file_extension": ".py",
   "mimetype": "text/x-python",
   "name": "python",
   "nbconvert_exporter": "python",
   "pygments_lexer": "ipython2",
   "version": "2.7.14"
  }
 },
 "nbformat": 4,
 "nbformat_minor": 2
}
