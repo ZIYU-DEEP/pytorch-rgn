{
 "cells": [
  {
   "cell_type": "markdown",
   "metadata": {},
   "source": [
    "# Geometric Units\n",
    "\n",
    "This notebook is to validate that the geometric units are constructed correctly and can reproduce the 3D protein structure given ground truth bond lengths, bond angles and torsion angles."
   ]
  },
  {
   "cell_type": "code",
   "execution_count": 8,
   "metadata": {},
   "outputs": [],
   "source": [
    "import torch\n",
    "import torch.nn as nn\n",
    "import os\n",
    "import utils\n",
    "from model import pair_dist"
   ]
  },
  {
   "cell_type": "code",
   "execution_count": 13,
   "metadata": {},
   "outputs": [],
   "source": [
    "data_path = os.curdir + '/data/'\n",
    "pdb_path = os.curdir + '/data/pdb/structures/'"
   ]
  },
  {
   "cell_type": "code",
   "execution_count": 14,
   "metadata": {},
   "outputs": [],
   "source": [
    "#First find a pdb file with no missing coordinates\n",
    "chain_1 = utils.load_array(data_path+'proteins_1.bc')"
   ]
  },
  {
   "cell_type": "markdown",
   "metadata": {},
   "source": [
    "I know that proteins 2 (1zur) and 19 (4a56) in chain_1, have no missing coordinates, so they're ideal candidates."
   ]
  },
  {
   "cell_type": "code",
   "execution_count": 16,
   "metadata": {},
   "outputs": [],
   "source": [
    "names = ['1zur.pdb', '4a56.pdb']\n",
    "t_angles, b_angles, b_len = torch.zeros((163, 2, 3)), torch.zeros((163, 2, 3)), torch.zeros((163, 2, 3))\n",
    "\n",
    "for ix, name in enumerate(names):\n",
    "    ta, ba, bl = utils.gt_dihedral_angles(pdb_path+name)\n",
    "    t_angles[:len(ta), ix] = ta\n",
    "    b_angles[:len(ba), ix] = ba\n",
    "    b_len[:len(bl), ix] = bl"
   ]
  },
  {
   "cell_type": "code",
   "execution_count": 17,
   "metadata": {},
   "outputs": [],
   "source": [
    "#get the coordinates of first three atoms (A,B,C) for the two test samples\n",
    "A1 = torch.tensor(chain_1[2][2][0], dtype=torch.float)\n",
    "A2 = torch.tensor(chain_1[19][2][0], dtype=torch.float)\n",
    "B1 = torch.tensor(chain_1[2][2][1], dtype=torch.float)\n",
    "B2 = torch.tensor(chain_1[19][2][1], dtype=torch.float)\n",
    "C1 = torch.tensor(chain_1[2][2][2], dtype=torch.float)\n",
    "C2 = torch.tensor(chain_1[19][2][2], dtype=torch.float)"
   ]
  },
  {
   "cell_type": "code",
   "execution_count": 18,
   "metadata": {},
   "outputs": [],
   "source": [
    "A = torch.stack([A1,A2], 0)\n",
    "B = torch.stack([B1,B2], 0)\n",
    "C = torch.stack([C1,C2], 0)\n",
    "pred_coords = torch.stack([A, B, C], 0)\n",
    "\n",
    "for ix, triplet in enumerate(t_angles):\n",
    "    for i in range(3):\n",
    "        #coordinates of last three atoms\n",
    "        A, B, C = pred_coords[-3], pred_coords[-2], pred_coords[-1]\n",
    "        #internal coordinates\n",
    "        T = b_angles[ix, :, i]\n",
    "        R = b_len[ix, :, i]\n",
    "        P = triplet[:, i]\n",
    "\n",
    "        #note the negative in the first term isn't referenced in the original paper\n",
    "        #it may have something to do with how BioPDB calculates angles\n",
    "        D2 = torch.stack([-R*torch.ones(P.size())*torch.cos(T), \n",
    "                          R*torch.cos(P)*torch.sin(T),\n",
    "                          R*torch.sin(P)*torch.sin(T)], dim=1)\n",
    "\n",
    "        #bsx3 one triplet for each sample in the batch\n",
    "        BC = C - B\n",
    "        bc = BC/torch.norm(BC, 2, dim=1, keepdim=True)\n",
    "\n",
    "        AB = B - A\n",
    "\n",
    "        N = torch.cross(AB, bc)\n",
    "        n = N/torch.norm(N, 2, dim=1, keepdim=True)\n",
    "\n",
    "        M = torch.stack([bc, torch.cross(n, bc), n], dim=2)\n",
    "\n",
    "        D = torch.bmm(M, D2.view(-1,3,1)).squeeze() + C\n",
    "        pred_coords = torch.cat([pred_coords, D.view(1,-1,3)])"
   ]
  },
  {
   "cell_type": "code",
   "execution_count": 19,
   "metadata": {},
   "outputs": [
    {
     "name": "stdout",
     "output_type": "stream",
     "text": [
      "tensor([[ 0.0000,  1.4874,  2.5037,  3.6471,  4.9417,  6.0591,  7.2858],\n",
      "        [ 1.4874,  0.0000,  1.5289,  2.4205,  3.8290,  4.7594,  6.0301],\n",
      "        [ 2.5037,  1.5289,  0.0000,  1.3304,  2.4853,  3.6839,  4.8436],\n",
      "        [ 3.6471,  2.4205,  1.3304,  0.0000,  1.4620,  2.4165,  3.6473],\n",
      "        [ 4.9417,  3.8290,  2.4853,  1.4620,  0.0000,  1.5286,  2.4434],\n",
      "        [ 6.0591,  4.7594,  3.6839,  2.4165,  1.5286,  0.0000,  1.3305],\n",
      "        [ 7.2858,  6.0301,  4.8436,  3.6473,  2.4434,  1.3305,  0.0000]])\n",
      "tensor([[ 0.0000,  1.4875,  2.5037,  3.6471,  4.9417,  6.0591,  7.2858],\n",
      "        [ 1.4875,  0.0000,  1.5288,  2.4205,  3.8289,  4.7595,  6.0301],\n",
      "        [ 2.5037,  1.5288,  0.0000,  1.3304,  2.4853,  3.6839,  4.8436],\n",
      "        [ 3.6471,  2.4205,  1.3304,  0.0000,  1.4620,  2.4165,  3.6473],\n",
      "        [ 4.9417,  3.8289,  2.4853,  1.4620,  0.0000,  1.5286,  2.4434],\n",
      "        [ 6.0591,  4.7595,  3.6839,  2.4165,  1.5286,  0.0000,  1.3305],\n",
      "        [ 7.2858,  6.0301,  4.8436,  3.6473,  2.4434,  1.3305,  0.0000]], dtype=torch.float64)\n"
     ]
    }
   ],
   "source": [
    "#evaluate on 1zur\n",
    "gt_coords = torch.tensor(chain_1[2][2])\n",
    "print(pair_dist(pred_coords[:, 0])[:7, :7])\n",
    "print(pair_dist(gt_coords)[:7, :7])"
   ]
  },
  {
   "cell_type": "code",
   "execution_count": 20,
   "metadata": {},
   "outputs": [
    {
     "name": "stdout",
     "output_type": "stream",
     "text": [
      "tensor([[ 0.0000,  1.4995,  2.4238,  3.4181,  4.6396,  5.4634,  6.4754],\n",
      "        [ 1.4995,  0.0000,  1.5253,  2.4579,  3.8404,  4.4748,  5.6402],\n",
      "        [ 2.4238,  1.5253,  0.0000,  1.3442,  2.4518,  3.0594,  4.1571],\n",
      "        [ 3.4181,  2.4579,  1.3442,  0.0000,  1.4801,  2.4726,  3.6662],\n",
      "        [ 4.6396,  3.8404,  2.4518,  1.4801,  0.0000,  1.5339,  2.4456],\n",
      "        [ 5.4634,  4.4748,  3.0594,  2.4726,  1.5339,  0.0000,  1.3372],\n",
      "        [ 6.4754,  5.6402,  4.1571,  3.6662,  2.4456,  1.3372,  0.0000]])\n",
      "tensor([[ 0.0000,  1.4995,  2.4238,  3.4181,  4.6396,  5.4634,  6.4754],\n",
      "        [ 1.4995,  0.0000,  1.5253,  2.4579,  3.8404,  4.4748,  5.6402],\n",
      "        [ 2.4238,  1.5253,  0.0000,  1.3442,  2.4518,  3.0594,  4.1571],\n",
      "        [ 3.4181,  2.4579,  1.3442,  0.0000,  1.4801,  2.4726,  3.6662],\n",
      "        [ 4.6396,  3.8404,  2.4518,  1.4801,  0.0000,  1.5339,  2.4456],\n",
      "        [ 5.4634,  4.4748,  3.0594,  2.4726,  1.5339,  0.0000,  1.3372],\n",
      "        [ 6.4754,  5.6402,  4.1571,  3.6662,  2.4456,  1.3372,  0.0000]], dtype=torch.float64)\n"
     ]
    }
   ],
   "source": [
    "#evaluate on 4a56\n",
    "gt_coords = torch.tensor(chain_1[19][2])\n",
    "print(pair_dist(pred_coords[:, 1])[:7, :7])\n",
    "print(pair_dist(gt_coords)[:7, :7])"
   ]
  }
 ],
 "metadata": {
  "kernelspec": {
   "display_name": "Python [conda env:anaconda2]",
   "language": "python",
   "name": "conda-env-anaconda2-py"
  },
  "language_info": {
   "codemirror_mode": {
    "name": "ipython",
    "version": 2
   },
   "file_extension": ".py",
   "mimetype": "text/x-python",
   "name": "python",
   "nbconvert_exporter": "python",
   "pygments_lexer": "ipython2",
   "version": "2.7.14"
  }
 },
 "nbformat": 4,
 "nbformat_minor": 2
}
